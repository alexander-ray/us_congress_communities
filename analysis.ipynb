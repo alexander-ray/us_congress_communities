{
 "cells": [
  {
   "cell_type": "code",
   "execution_count": null,
   "metadata": {
    "collapsed": true
   },
   "outputs": [],
   "source": [
    "import csv\n",
    "import sys\n",
    "\n",
    "from sklearn.metrics import adjusted_mutual_info_score\n",
    "\n",
    "from graph_generator import GraphGenerator\n",
    "from graph_manipulator import GraphManipulator\n",
    "from helper import Helper\n",
    "\n",
    "sys.path.append('/Users/alexray/Dropbox/Fall2018CU/thesis/')"
   ]
  },
  {
   "cell_type": "code",
   "execution_count": null,
   "metadata": {},
   "outputs": [],
   "source": [
    "base_path = '/Users/alexray/Documents/data/'\n",
    "bioguide_path = base_path + 'legislators/bioguide_lookup'\n",
    "party_lookup_path = base_path + 'legislators/party_lookup'\n",
    "secondary_party_lookup_path = base_path + 'legislators/legislators-current-test.json'\n",
    "\n",
    "graph_gen = GraphGenerator(bioguide_path, party_lookup_path, secondary_party_lookup_path)\n",
    "\n",
    "house_names = ['hr', 'hconres', 'hjres', 'hres', 'hamendments']\n",
    "senate_names = ['s', 'sconres', 'sjres', 'sres', 'samendments']\n",
    "chamber = 'house'\n",
    "include_self_loops = False\n",
    "#thresholds = [0.6, 0.7, 0.8, 0.9, 1.0]\n",
    "thresholds = [None]\n",
    "\n",
    "mod_arr = []\n",
    "congresses = list(range(96, 116))\n",
    "for threshold in thresholds:\n",
    "    for congress in congresses:\n",
    "        if chamber == 'house':\n",
    "            G_bipartite = graph_gen.generate_bipartite_graph(base_path=base_path,\n",
    "                                                             congress=congress,\n",
    "                                                             origins=house_names)\n",
    "        else:\n",
    "            G_bipartite = graph_gen.generate_bipartite_graph(base_path=base_path,\n",
    "                                                             congress=congress,\n",
    "                                                             origins=senate_names)\n",
    "\n",
    "        G_proj = GraphManipulator.one_mode_projection_from_bipartite(G_bipartite, include_self_loops)\n",
    "\n",
    "        s = Helper.generate_membership_list_from_party(G_proj.nodes)\n",
    "\n",
    "        g = GraphManipulator.igraph_from_networkx_one_mode(G_proj)\n",
    "        mod = g.modularity(membership=s, weights='weight')\n",
    "        eig_s = Helper.generate_max_modularity_membership(g)\n",
    "        \n",
    "        # Uncomment to write results to csv for later use\n",
    "        with open('./data/' + chamber + '_ami_no_self.csv', 'a') as f:\n",
    "            writer = csv.writer(f)\n",
    "            writer.writerow([congress, adjusted_mutual_info_score(s, eig_s)])"
   ]
  }
 ],
 "metadata": {
  "kernelspec": {
   "display_name": "Python 2",
   "language": "python",
   "name": "python2"
  },
  "language_info": {
   "codemirror_mode": {
    "name": "ipython",
    "version": 2
   },
   "file_extension": ".py",
   "mimetype": "text/x-python",
   "name": "python",
   "nbconvert_exporter": "python",
   "pygments_lexer": "ipython2",
   "version": "2.7.6"
  }
 },
 "nbformat": 4,
 "nbformat_minor": 0
}
